{
  "nbformat": 4,
  "nbformat_minor": 0,
  "metadata": {
    "colab": {
      "provenance": []
    },
    "kernelspec": {
      "name": "python3",
      "display_name": "Python 3"
    },
    "language_info": {
      "name": "python"
    }
  },
  "cells": [
    {
      "cell_type": "code",
      "source": [
        "import numpy as np\n",
        "from scipy import stats\n",
        "from scipy import optimize"
      ],
      "metadata": {
        "id": "rLZPW7aEVlQP"
      },
      "execution_count": 9,
      "outputs": []
    },
    {
      "cell_type": "markdown",
      "source": [],
      "metadata": {
        "id": "9HN-ItUIWVla"
      }
    },
    {
      "cell_type": "markdown",
      "metadata": {
        "id": "sVB4184cIAAW"
      },
      "source": [
        "Important Quantities\n",
        "Given and ad $a$ and a slot $s$, each time $t$ a user arrives:\n",
        "- $\\lambda_s$: probability that the slot $s$ is observed by the user.\n",
        "- $q_a$: ad's *click-through-rate*, i.e., probability that the ad is clicked by user\n",
        "- $v_a$: ad's profit per click (e.g., expected profit from sale)"
      ]
    },
    {
      "cell_type": "markdown",
      "metadata": {
        "id": "rNk8TNzHIAAX"
      },
      "source": [
        " Assumptions of this model:\n",
        "\n",
        "- All the quantities are **fixed** and don't vary with time.\n",
        "- Ad's CTR $q_a$ and profit-per-click $v_a$ don't depend on the slot.\n",
        "- Prominence $\\lambda_s$ pdoesn't depend on ad."
      ]
    },
    {
      "cell_type": "code",
      "source": [
        "class Auction:\n",
        "    def __init__(self, *args, **kwargs):\n",
        "        pass\n",
        "\n",
        "    def get_winners(self, bids):\n",
        "        pass\n",
        "\n",
        "    def get_payments_per_click(self, winners, values, bids):\n",
        "        pass\n",
        "\n",
        "    def round(self, bids):\n",
        "        winners, values = self.get_winners(bids) # allocation mechanism!\n",
        "        payments_per_click = self.get_payments_per_click(winners, values, bids)\n",
        "        return winners, payments_per_click"
      ],
      "metadata": {
        "id": "KElfW0EaXABZ"
      },
      "execution_count": 12,
      "outputs": []
    },
    {
      "cell_type": "code",
      "source": [
        "class SecondPriceAuction(Auction):\n",
        "    def __init__(self, ctrs):\n",
        "        self.ctrs = ctrs\n",
        "        self.n_adv = len(self.ctrs)\n",
        "\n",
        "    def get_winners(self, bids):\n",
        "        adv_values = self.ctrs*bids\n",
        "        adv_ranking = np.argsort(adv_values)\n",
        "        winner = adv_ranking[-1]\n",
        "        return winner, adv_values\n",
        "\n",
        "    def get_payments_per_click(self, winners, values, bids):\n",
        "        adv_ranking = np.argsort(values)\n",
        "        second = adv_ranking[-2]\n",
        "        payment = values[second]/self.ctrs[winners]\n",
        "        return payment.round(2)"
      ],
      "metadata": {
        "id": "H8ZiXJ22W_fu"
      },
      "execution_count": 13,
      "outputs": []
    },
    {
      "cell_type": "code",
      "execution_count": 10,
      "metadata": {
        "id": "mgyvD4f0U6m8"
      },
      "outputs": [],
      "source": [
        "### Stochastic Bidders: my competitors sample their bids from\n",
        "### probability distributions\n",
        "\n",
        "n_advertisers = 3\n",
        "n_users = 5000\n",
        "B = 300\n",
        "my_valuation = 0.6\n",
        "rho = B/n_users\n",
        "\n",
        "# simple scenario: competitors sample bids from a uniform\n",
        "other_bids = np.random.uniform(0, 1, size = (n_advertisers, n_users))\n",
        "# I assume that competitors may have a larger budget than mine, but they may\n",
        "# not deplete it.\n",
        "m_t = other_bids.max(axis=0)\n",
        "\n",
        "### the maximum among k uniformly distributed r.v.s is a beta r.v. with alpha=k and beta=1\n",
        "available_bids = np.linspace(0,1,11)\n",
        "win_probabilities = stats.beta.cdf(available_bids, n_advertisers, 1)\n",
        "\n",
        "## Linear Program\n",
        "c = -(my_valuation-available_bids)*win_probabilities\n",
        "A_ub = [available_bids*win_probabilities]\n",
        "b_ub = [rho]\n",
        "A_eq = [np.ones(len(available_bids))]\n",
        "b_eq = [1]\n",
        "res = optimize.linprog(c, A_ub=A_ub, b_ub=b_ub, A_eq=A_eq, b_eq=b_eq, bounds=(0,1))\n",
        "gamma = res.x\n",
        "expected_clairvoyant_utilities = [-res.fun for u in range(n_users)]\n",
        "expected_clairvoyant_bids = [sum(available_bids*gamma*win_probabilities) for u in range(n_users)]"
      ]
    },
    {
      "cell_type": "code",
      "source": [
        "eta = 1/np.sqrt(n_users) # from theory\n",
        "agent = FFMultiplicativePacingAgent(bids_set = available_bids,\n",
        "                                    valuation=my_valuation,\n",
        "                                    budget=B,\n",
        "                                    T=n_users,\n",
        "                                    eta=eta)\n",
        "\n",
        "auction = FirstPriceAuction(np.ones(n_advertisers+1))\n",
        "\n",
        "utilities = np.array([])\n",
        "my_bids = np.array([])\n",
        "my_payments = np.array([])\n",
        "total_wins = 0\n",
        "\n",
        "np.random.seed(1)\n",
        "for u in range(n_users):\n",
        "    # interaction\n",
        "    my_bid = agent.bid()\n",
        "    bids = np.append(my_bid, other_bids[:, u].ravel())\n",
        "    winners, payments_per_click = auction.round(bids=bids)\n",
        "    my_win = int(winners==0)\n",
        "    f_t, c_t = (my_valuation-m_t[u])*my_win, m_t[u]*my_win\n",
        "    agent.update(f_t, c_t, m_t[u])\n",
        "    # logging\n",
        "    utilities = np.append(utilities, f_t)\n",
        "    my_bids = np.append(my_bids, my_bid)\n",
        "    my_payments = np.append(my_payments, c_t)\n",
        "    total_wins+=my_win\n",
        "print(f'Total # of Wins: {total_wins}')"
      ],
      "metadata": {
        "id": "VGwlAukSWqRQ"
      },
      "execution_count": null,
      "outputs": []
    },
    {
      "cell_type": "code",
      "source": [
        "plt.plot(my_bids)\n",
        "plt.xlabel('$t$')\n",
        "plt.ylabel('$b_t$')\n",
        "plt.title('Chosen Bids')\n",
        "plt.show()"
      ],
      "metadata": {
        "id": "GYbHhv7XZOHI"
      },
      "execution_count": null,
      "outputs": []
    },
    {
      "cell_type": "code",
      "source": [
        "cumulative_payments = np.cumsum(my_payments)\n",
        "plt.plot(cumulative_payments)\n",
        "plt.xlabel('$t$')\n",
        "plt.ylabel('$\\sum c_t$')\n",
        "plt.axhline(B, color='red', label='Budget')\n",
        "plt.legend()\n",
        "plt.title('Cumulative Payments of Multiplicative Pacing')\n",
        "plt.show()"
      ],
      "metadata": {
        "id": "rYd75tDUZRJB"
      },
      "execution_count": null,
      "outputs": []
    },
    {
      "cell_type": "code",
      "source": [
        "cumulative_regret = np.cumsum(expected_clairvoyant_utilities-utilities)\n",
        "plt.plot(cumulative_regret)\n",
        "plt.xlabel('$t$')\n",
        "plt.ylabel('$\\sum R_t$')\n",
        "plt.title('Cumulative Regret of Multiplicative Pacing')\n",
        "plt.show()"
      ],
      "metadata": {
        "id": "wU6G-wHmZRlQ"
      },
      "execution_count": null,
      "outputs": []
    },
    {
      "cell_type": "markdown",
      "source": [
        "multiple runs"
      ],
      "metadata": {
        "id": "PVtWaftgZby4"
      }
    },
    {
      "cell_type": "code",
      "source": [
        "n_epochs = 50\n",
        "all_regrets = []\n",
        "all_payments = []\n",
        "for i in range(n_epochs):\n",
        "    agent = FFMultiplicativePacingAgent(bids_set = available_bids,\n",
        "                                        valuation=my_valuation,\n",
        "                                        budget=B,\n",
        "                                        T=n_users,\n",
        "                                        eta=eta)\n",
        "\n",
        "    auction = FirstPriceAuction(np.ones(n_advertisers+1))\n",
        "    utilities = np.array([])\n",
        "    my_bids = np.array([])\n",
        "    my_payments = np.array([])\n",
        "\n",
        "    np.random.seed(i)\n",
        "    for u in range(n_users):\n",
        "        # interaction\n",
        "        my_bid = agent.bid()\n",
        "        bids = np.append(my_bid, other_bids[:, u].ravel())\n",
        "        winners, payments_per_click = auction.round(bids=bids)\n",
        "        my_win = int(winners==0)\n",
        "        f_t, c_t = (my_valuation-m_t[u])*my_win, m_t[u]*my_win\n",
        "        agent.update(f_t, c_t, m_t[u])\n",
        "        # logging\n",
        "        utilities = np.append(utilities, f_t)\n",
        "        my_payments = np.append(my_payments, c_t)\n",
        "    all_regrets.append(np.cumsum(expected_clairvoyant_utilities-utilities))\n",
        "    all_payments.append(np.cumsum(my_payments))\n",
        "\n",
        "avg_regret = np.array(all_regrets).mean(axis=0)\n",
        "std_regret = np.array(all_regrets).std(axis=0)\n",
        "\n",
        "avg_payments = np.array(all_payments).mean(axis=0)\n",
        "std_payments = np.array(all_payments).std(axis=0)"
      ],
      "metadata": {
        "id": "6mTDr-J5ZbH_"
      },
      "execution_count": null,
      "outputs": []
    },
    {
      "cell_type": "code",
      "source": [
        "plt.plot(np.arange(n_users), avg_payments)\n",
        "plt.fill_between(np.arange(n_users), avg_payments-std_payments, avg_payments+std_payments, alpha=0.3)\n",
        "plt.xlabel('$t$')\n",
        "plt.ylabel('$\\sum c_t$')\n",
        "plt.axhline(B, color='red', label='Budget')\n",
        "plt.legend()\n",
        "plt.title('Cumulative Payments of Multiplicative Pacing')\n",
        "plt.show()"
      ],
      "metadata": {
        "id": "7UABZL2MZdzU"
      },
      "execution_count": null,
      "outputs": []
    },
    {
      "cell_type": "code",
      "source": [
        "plt.plot(np.arange(n_users), avg_regret)\n",
        "plt.fill_between(np.arange(n_users), avg_regret-std_regret, avg_regret+std_regret, alpha=0.3)\n",
        "plt.xlabel('$t$')\n",
        "plt.ylabel('$\\sum R_t$')\n",
        "plt.title('Cumulative Regret of Full-Feedback Multiplicative Pacing')\n",
        "plt.show()"
      ],
      "metadata": {
        "id": "ADXwIMb4Zfp-"
      },
      "execution_count": null,
      "outputs": []
    }
  ]
}